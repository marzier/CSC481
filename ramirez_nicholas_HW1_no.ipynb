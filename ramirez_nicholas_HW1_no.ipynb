{
  "nbformat": 4,
  "nbformat_minor": 0,
  "metadata": {
    "colab": {
      "provenance": [],
      "authorship_tag": "ABX9TyO+JD/bnqBYwLMBtHTogmAV",
      "include_colab_link": true
    },
    "kernelspec": {
      "name": "python3",
      "display_name": "Python 3"
    },
    "language_info": {
      "name": "python"
    }
  },
  "cells": [
    {
      "cell_type": "markdown",
      "metadata": {
        "id": "view-in-github",
        "colab_type": "text"
      },
      "source": [
        "<a href=\"https://colab.research.google.com/github/marzier/CSC481/blob/main/ramirez_nicholas_HW1_no.ipynb\" target=\"_parent\"><img src=\"https://colab.research.google.com/assets/colab-badge.svg\" alt=\"Open In Colab\"/></a>"
      ]
    },
    {
      "cell_type": "code",
      "execution_count": null,
      "metadata": {
        "colab": {
          "base_uri": "https://localhost:8080/"
        },
        "id": "FJp94OZBH4gb",
        "outputId": "dca085bc-45b5-4208-d639-3dc5e6f1a7be"
      },
      "outputs": [
        {
          "output_type": "stream",
          "name": "stdout",
          "text": [
            "sum:  15\n",
            "diff:  5\n",
            "product:  50\n",
            "product:  2.0\n"
          ]
        }
      ],
      "source": [
        "# basic arithmetic ops\n",
        "\n",
        "a=10\n",
        "b=5\n",
        "sum = a+b\n",
        "diff = a-b\n",
        "product = a*b\n",
        "division = a/b\n",
        "\n",
        "print(\"sum: \", sum)\n",
        "print(\"diff: \", diff)\n",
        "print(\"product: \", product)\n",
        "print(\"product: \", division)\n",
        "\n",
        "\n",
        "\n",
        "\n"
      ]
    },
    {
      "cell_type": "code",
      "source": [
        "print(f\"The sum of the two numbers {a}, {b} is {sum}\")\n"
      ],
      "metadata": {
        "colab": {
          "base_uri": "https://localhost:8080/"
        },
        "id": "COWU5jqgLUFl",
        "outputId": "cb3d3361-3648-4206-91d8-b4031ae0fcab"
      },
      "execution_count": null,
      "outputs": [
        {
          "output_type": "stream",
          "name": "stdout",
          "text": [
            "The sum of the two numbers 10, 5 is 15\n"
          ]
        }
      ]
    },
    {
      "cell_type": "code",
      "source": [
        "x = a//b\n",
        "print(x)\n",
        "\n",
        "y = 13%2\n",
        "print(y)\n",
        "\n"
      ],
      "metadata": {
        "colab": {
          "base_uri": "https://localhost:8080/"
        },
        "id": "11csMLZ0Lt9J",
        "outputId": "924e3220-7c6f-4f5e-f914-b48588ac8572"
      },
      "execution_count": null,
      "outputs": [
        {
          "output_type": "stream",
          "name": "stdout",
          "text": [
            "2\n",
            "1\n"
          ]
        }
      ]
    },
    {
      "cell_type": "code",
      "source": [
        "#booleans\n",
        "x = 10\n",
        "y= 5\n",
        "\n",
        "is_greater = x > y\n",
        "is_equal = x==y\n",
        "is_not_equal = x != y\n",
        "\n",
        "print(\"is x greater than y?\", is_greater)\n",
        "print(\"is x equal y?\", is_equal)\n",
        "print(\"is x not equal y?\", is_not_equal)\n",
        "\n",
        "\n",
        "\n"
      ],
      "metadata": {
        "id": "Dq10aP7COZ8p"
      },
      "execution_count": null,
      "outputs": []
    },
    {
      "cell_type": "code",
      "source": [
        "#variable assignment\n",
        "\n",
        "name = \"nick\"\n",
        "age = 38\n",
        "is_professor = False\n",
        "\n",
        "print(f\"{name}'s {age}. He is a Professor is {is_professor}\")"
      ],
      "metadata": {
        "colab": {
          "base_uri": "https://localhost:8080/"
        },
        "id": "PaT9DNvwP7Oa",
        "outputId": "af8f7387-b1fc-4c95-c885-da9523c64b58"
      },
      "execution_count": null,
      "outputs": [
        {
          "output_type": "stream",
          "name": "stdout",
          "text": [
            "nick's 38. He is a Professor is False\n"
          ]
        }
      ]
    },
    {
      "cell_type": "code",
      "source": [
        "#defining and using a function\n",
        "\n",
        "def greet(name):\n",
        "  return \"hello, \" + name + \"!\"\n",
        "\n",
        "my_name = input(\"enter your name: \")\n",
        "greet('Nick')\n",
        "greet(my_name)"
      ],
      "metadata": {
        "colab": {
          "base_uri": "https://localhost:8080/",
          "height": 52
        },
        "id": "zUCUrdjHQedC",
        "outputId": "b47070b9-ade1-4158-b792-0e617a9ceb84"
      },
      "execution_count": null,
      "outputs": [
        {
          "name": "stdout",
          "output_type": "stream",
          "text": [
            "enter your name: niick\n"
          ]
        },
        {
          "output_type": "execute_result",
          "data": {
            "text/plain": [
              "'hello, niick!'"
            ],
            "application/vnd.google.colaboratory.intrinsic+json": {
              "type": "string"
            }
          },
          "metadata": {},
          "execution_count": 7
        }
      ]
    },
    {
      "cell_type": "code",
      "source": [
        "\n",
        "def add_numbers(a,b):\n",
        "  return a+b\n",
        "\n",
        "a=int(input(\"enter first number: \"))\n",
        "b=int(input(\"enter second number: \"))\n",
        "\n",
        "addition_value = add_numbers(a,b)\n",
        "print(f\"the result of addition for {a}, {b} is {addition_value}\")\n",
        "\n",
        "\n"
      ],
      "metadata": {
        "colab": {
          "base_uri": "https://localhost:8080/"
        },
        "id": "xx42ASYpeBgy",
        "outputId": "c1a6734d-0169-4e98-9f2c-35f574dad19d"
      },
      "execution_count": null,
      "outputs": [
        {
          "output_type": "stream",
          "name": "stdout",
          "text": [
            "enter first number: 1\n",
            "enter second number: 2\n",
            "the result of addition for 1, 2 is 12\n"
          ]
        }
      ]
    },
    {
      "cell_type": "code",
      "source": [
        "\n",
        "def add_numbers(a,b):\n",
        "  return a+b\n",
        "\n",
        "a=eval(input(\"enter first number: \"))\n",
        "b=eval(input(\"enter second number: \"))\n",
        "\n",
        "addition_value = add_numbers(a,b)\n",
        "print(f\"the result of addition for {a}, {b} is {addition_value}\")"
      ],
      "metadata": {
        "colab": {
          "base_uri": "https://localhost:8080/"
        },
        "id": "uy744PClezom",
        "outputId": "bcda5522-eb4e-4bdc-9d0a-3b6666915c27"
      },
      "execution_count": null,
      "outputs": [
        {
          "output_type": "stream",
          "name": "stdout",
          "text": [
            "enter first number: 2.3\n",
            "enter second number: 3.5\n",
            "the result of addition for 2.3, 3.5 is 5.8\n"
          ]
        }
      ]
    },
    {
      "cell_type": "code",
      "source": [
        "# working with strings\n",
        "\n",
        "message = \"hello, world\"\n",
        "length = len(message)\n",
        "uppercase = message.upper()\n",
        "lowercase = message.lower()\n",
        "substring = message[7:12]\n",
        "\n",
        "print('original message: ', message)\n",
        "print('the length is : ', length)\n",
        "\n",
        "print('the uppercase  message: ', uppercase)\n",
        "print('the lowercase  message: ', lowercase)\n",
        "print('part of the message is: ', substring)\n",
        "\n",
        "\n"
      ],
      "metadata": {
        "colab": {
          "base_uri": "https://localhost:8080/"
        },
        "id": "jzFclDZhe662",
        "outputId": "23214be7-c63d-4fdc-f02c-8b6b979979e9"
      },
      "execution_count": null,
      "outputs": [
        {
          "output_type": "stream",
          "name": "stdout",
          "text": [
            "original message:  hello, world\n",
            "the length is :  12\n",
            "the uppercase  message:  HELLO, WORLD\n",
            "the lowercase  message:  hello, world\n",
            "part of the message is:  world\n"
          ]
        }
      ]
    },
    {
      "cell_type": "code",
      "source": [
        "#basic input example\n",
        "\n",
        "last=input(\"enter the last name: \")\n",
        "first=input(\"enter the first namee: \")\n",
        "\n",
        "print(f\"{last}, {first}\")\n"
      ],
      "metadata": {
        "colab": {
          "base_uri": "https://localhost:8080/"
        },
        "id": "LwdMocEug-0g",
        "outputId": "288f67ee-3f39-4525-8741-c98f81516b02"
      },
      "execution_count": null,
      "outputs": [
        {
          "output_type": "stream",
          "name": "stdout",
          "text": [
            "enter the last name: ram\n",
            "enter the first namee: nick\n",
            "ram, nick\n"
          ]
        }
      ]
    },
    {
      "cell_type": "code",
      "source": [
        "#numeric input example\n",
        "\n",
        "age = int(input(\"enter your age: \"))\n",
        "print(\"you will be\" , age+1, \" years old\")\n"
      ],
      "metadata": {
        "colab": {
          "base_uri": "https://localhost:8080/"
        },
        "id": "IIpKDK0chlpx",
        "outputId": "a29c1052-aa2d-4fc7-b305-79e6702d926f"
      },
      "execution_count": null,
      "outputs": [
        {
          "output_type": "stream",
          "name": "stdout",
          "text": [
            "enter your age: 3\n",
            "you will be 4  years old\n"
          ]
        }
      ]
    },
    {
      "cell_type": "code",
      "source": [
        "#calculations with input\n",
        "\n",
        "num1 = float(input(\"Enter a number: \"))\n",
        "num2 = float(input(\"Enter another number: \"))\n",
        "\n",
        "sum_result = num1 + num2\n",
        "print(\"sum:\", sum_result)\n",
        "\n"
      ],
      "metadata": {
        "colab": {
          "base_uri": "https://localhost:8080/"
        },
        "id": "V2lWdHhghpGd",
        "outputId": "c5b91eba-493e-4d5b-8791-4ebd90916a9d"
      },
      "execution_count": null,
      "outputs": [
        {
          "output_type": "stream",
          "name": "stdout",
          "text": [
            "Enter a number: 2.3\n",
            "Enter another number: 23.3\n",
            "sum: 25.6\n"
          ]
        }
      ]
    },
    {
      "cell_type": "code",
      "source": [],
      "metadata": {
        "id": "8PFYyiWRi0y9"
      },
      "execution_count": null,
      "outputs": []
    },
    {
      "cell_type": "code",
      "source": [
        "city = input(\"enter your city:\")\n",
        "country = input(\"enter your country:\")\n",
        "location = city + \", \" + country\n",
        "\n",
        "print(f\"you are in {location}\")"
      ],
      "metadata": {
        "colab": {
          "base_uri": "https://localhost:8080/"
        },
        "id": "4rADb_iaivAE",
        "outputId": "4692609b-5eb7-47ea-d7e9-b285db942101"
      },
      "execution_count": null,
      "outputs": [
        {
          "output_type": "stream",
          "name": "stdout",
          "text": [
            "enter your city:new haven\n",
            "enter your country:ct'\n",
            "you are in new haven, ct'\n"
          ]
        }
      ]
    },
    {
      "cell_type": "code",
      "source": [
        "#multiple inputs\n",
        "\n",
        "name,age = input(\"enter your name and age separated by a space: \").split()\n",
        "print(f\"my name is {name} and i am {age} years old\")"
      ],
      "metadata": {
        "colab": {
          "base_uri": "https://localhost:8080/"
        },
        "id": "CkG9u-CEjEmg",
        "outputId": "f6b0e340-2ec8-4a18-c75a-45220dba1e66"
      },
      "execution_count": null,
      "outputs": [
        {
          "output_type": "stream",
          "name": "stdout",
          "text": [
            "enter your name and age separated by a space: nick 3\n",
            "my name is nick and i am 3 years old\n"
          ]
        }
      ]
    }
  ]
}